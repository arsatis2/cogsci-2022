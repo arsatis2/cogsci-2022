{
 "cells": [
  {
   "cell_type": "code",
   "execution_count": 1,
   "id": "15e23ef1",
   "metadata": {},
   "outputs": [],
   "source": [
    "import matplotlib.pyplot as plt\n",
    "import numpy as np\n",
    "import pymc3 as pm\n",
    "import theano\n",
    "import theano.tensor as tt\n",
    "import arviz as az\n",
    "import pandas as pd\n",
    "from theano import shared\n",
    "from scipy import stats\n",
    "import math"
   ]
  },
  {
   "cell_type": "markdown",
   "id": "90127178-a406-45fb-b8a3-e6dbbeea8ae5",
   "metadata": {
    "tags": []
   },
   "source": [
    "# Helper functions"
   ]
  },
  {
   "cell_type": "code",
   "execution_count": 2,
   "id": "2fccf061",
   "metadata": {},
   "outputs": [],
   "source": [
    "def flatten(t):\n",
    "    return [item for sublist in t for item in sublist]\n",
    "\n",
    "def normalize(x):\n",
    "    return x/np.sum(x)\n",
    "\n",
    "def rmse(pred, actual):\n",
    "    return math.sqrt(np.mean((pred-actual)**2))\n",
    "\n",
    "def sort_category(unique, count):\n",
    "    output = np.ones(3) - 1\n",
    "    for i in range(3):\n",
    "        for j in range(len(unique)):\n",
    "            if(i==unique[j]):\n",
    "                output[i]=count[j]\n",
    "    return normalize(output) \n",
    "\n",
    "def perturb(x, noise=.001):\n",
    "    return tt.switch(tt.ge(x,1),1-noise, tt.switch(tt.le(x,0), noise, x))\n",
    "\n",
    "def compute_ci_discrete(x, HDI, n, sim):\n",
    "    output = [None]*sim\n",
    "    for i in range(sim):\n",
    "        draw = np.random.choice(x, size = n, replace = True)\n",
    "        unique, counts = np.unique(draw, return_counts=True)\n",
    "        output[i] = sort_category(unique, counts)\n",
    "    lower = np.ones(len(output[0]))\n",
    "    upper = np.ones(len(output[0]))\n",
    "    output = np.transpose(output) # each element is now all the samples of one category\n",
    "    for i in range(len(output)):\n",
    "        lower[i] = np.quantile(output[i], q = (1-HDI)/2)\n",
    "        upper[i] = np.quantile(output[i], q = 1-(1-HDI)/2)\n",
    "    return [lower, upper]\n",
    "\n",
    "def compute_ci_continuous(x, HDI, n, sim):\n",
    "    output = np.ones(sim)\n",
    "    for i in range(sim):\n",
    "        draw = np.random.choice(x, size = n, replace = True)\n",
    "        output[i] = np.mean(draw)\n",
    "    lower = np.quantile(output, q = (1-HDI)/2)\n",
    "    upper = np.quantile(output, q = 1-(1-HDI)/2)\n",
    "    return [lower, upper]\n",
    "\n",
    "def computeA(m, s):\n",
    "    return (m*s)/(1-m)"
   ]
  },
  {
   "cell_type": "markdown",
   "id": "6c310b5b",
   "metadata": {},
   "source": [
    "# Computational models for tracking study\n",
    "\n",
    "## Data preprocessing"
   ]
  },
  {
   "cell_type": "code",
   "execution_count": 3,
   "id": "0c301ce2",
   "metadata": {},
   "outputs": [],
   "source": [
    "tracking_data = pd.read_csv('ecl_dat.csv', encoding=\"ISO-8859-1\")\n",
    "emotion_track = tracking_data.loc[tracking_data['condition'] == 'condition 1']\n",
    "noemotion_track = tracking_data.loc[tracking_data['condition'] == 'condition 2']"
   ]
  },
  {
   "cell_type": "markdown",
   "id": "a5817a65-b465-45de-a439-499a87055747",
   "metadata": {},
   "source": [
    "### Computing means for causal inference (at various snapshots)"
   ]
  },
  {
   "cell_type": "code",
   "execution_count": 4,
   "id": "65cd2bc1",
   "metadata": {},
   "outputs": [],
   "source": [
    "world1human_emotion_t1 = np.array(emotion_track[\"relation1BlueNorm\"])\n",
    "world2human_emotion_t1 = np.array(emotion_track[\"relation1OrangeNorm\"])\n",
    "world3human_emotion_t1 = np.array(emotion_track[\"relation1OrangeBlueNorm\"])\n",
    "worldhuman_emotion_t1 = sort_category([0,1,2],[np.mean(world1human_emotion_t1),np.mean(world2human_emotion_t1),np.mean(world3human_emotion_t1)])\n",
    "\n",
    "world1human_noemotion_t1 = np.array(noemotion_track[\"relation1BlueNorm\"]) \n",
    "world2human_noemotion_t1 = np.array(noemotion_track[\"relation1OrangeNorm\"]) \n",
    "world3human_noemotion_t1 = np.array(noemotion_track[\"relation1OrangeBlueNorm\"])\n",
    "worldhuman_noemotion_t1 = sort_category([0,1,2],[np.mean(world1human_noemotion_t1),np.mean(world2human_noemotion_t1),np.mean(world3human_noemotion_t1)])"
   ]
  },
  {
   "cell_type": "code",
   "execution_count": 5,
   "id": "16afd69f",
   "metadata": {},
   "outputs": [],
   "source": [
    "world1human_emotion_t2 = np.array(emotion_track[\"relation2BlueNorm\"])\n",
    "world2human_emotion_t2 = np.array(emotion_track[\"relation2OrangeNorm\"])\n",
    "world3human_emotion_t2 = np.array(emotion_track[\"relation2OrangeBlueNorm\"])\n",
    "worldhuman_emotion_t2 = sort_category([0,1,2],[np.mean(world1human_emotion_t2),np.mean(world2human_emotion_t2),np.mean(world3human_emotion_t2)])\n",
    "\n",
    "world1human_noemotion_t2 = np.array(noemotion_track[\"relation2BlueNorm\"]) \n",
    "world2human_noemotion_t2 = np.array(noemotion_track[\"relation2OrangeNorm\"]) \n",
    "world3human_noemotion_t2 = np.array(noemotion_track[\"relation2OrangeBlueNorm\"])\n",
    "worldhuman_noemotion_t2 = sort_category([0,1,2],[np.mean(world1human_noemotion_t2),np.mean(world2human_noemotion_t2),np.mean(world3human_noemotion_t2)])"
   ]
  },
  {
   "cell_type": "code",
   "execution_count": 6,
   "id": "cbc4d5a6",
   "metadata": {},
   "outputs": [],
   "source": [
    "world1human_emotion_t3 = np.array(emotion_track[\"relation3BlueNorm\"])\n",
    "world2human_emotion_t3 = np.array(emotion_track[\"relation3OrangeNorm\"])\n",
    "world3human_emotion_t3 = np.array(emotion_track[\"relation3OrangeBlueNorm\"])\n",
    "worldhuman_emotion_t3 = sort_category([0,1,2],[np.mean(world1human_emotion_t3),np.mean(world2human_emotion_t3),np.mean(world3human_emotion_t3)])\n",
    "\n",
    "world1human_noemotion_t3 = np.array(noemotion_track[\"relation3BlueNorm\"]) \n",
    "world2human_noemotion_t3 = np.array(noemotion_track[\"relation3OrangeNorm\"]) \n",
    "world3human_noemotion_t3 = np.array(noemotion_track[\"relation3OrangeBlueNorm\"])\n",
    "worldhuman_noemotion_t3 = sort_category([0,1,2],[np.mean(world1human_noemotion_t3),np.mean(world2human_noemotion_t3),np.mean(world3human_noemotion_t3)])"
   ]
  },
  {
   "cell_type": "code",
   "execution_count": 7,
   "id": "8e9581a2",
   "metadata": {},
   "outputs": [],
   "source": [
    "world1human_emotion_t4 = np.array(emotion_track[\"relation4BlueNorm\"])\n",
    "world2human_emotion_t4 = np.array(emotion_track[\"relation4OrangeNorm\"])\n",
    "world3human_emotion_t4 = np.array(emotion_track[\"relation4OrangeBlueNorm\"])\n",
    "worldhuman_emotion_t4 = sort_category([0,1,2],[np.mean(world1human_emotion_t4),np.mean(world2human_emotion_t4),np.mean(world3human_emotion_t4)])\n",
    "\n",
    "world1human_noemotion_t4 = np.array(noemotion_track[\"relation4BlueNorm\"]) \n",
    "world2human_noemotion_t4 = np.array(noemotion_track[\"relation4OrangeNorm\"]) \n",
    "world3human_noemotion_t4 = np.array(noemotion_track[\"relation4OrangeBlueNorm\"])\n",
    "worldhuman_noemotion_t4 = sort_category([0,1,2],[np.mean(world1human_noemotion_t4),np.mean(world2human_noemotion_t4),np.mean(world3human_noemotion_t4)])"
   ]
  },
  {
   "cell_type": "code",
   "execution_count": 8,
   "id": "7a8c7aa0",
   "metadata": {},
   "outputs": [],
   "source": [
    "world1human_emotion_t5 = np.array(emotion_track[\"relation5BlueNorm\"])\n",
    "world2human_emotion_t5 = np.array(emotion_track[\"relation5OrangeNorm\"])\n",
    "world3human_emotion_t5 = np.array(emotion_track[\"relation5OrangeBlueNorm\"])\n",
    "worldhuman_emotion_t5 = sort_category([0,1,2],[np.mean(world1human_emotion_t5),np.mean(world2human_emotion_t5),np.mean(world3human_emotion_t5)])\n",
    "\n",
    "world1human_noemotion_t5 = np.array(noemotion_track[\"relation5BlueNorm\"]) \n",
    "world2human_noemotion_t5 = np.array(noemotion_track[\"relation5OrangeNorm\"]) \n",
    "world3human_noemotion_t5 = np.array(noemotion_track[\"relation5OrangeBlueNorm\"])\n",
    "worldhuman_noemotion_t5 = sort_category([0,1,2],[np.mean(world1human_noemotion_t5),np.mean(world2human_noemotion_t5),np.mean(world3human_noemotion_t5)])"
   ]
  },
  {
   "cell_type": "markdown",
   "id": "9cfa929a",
   "metadata": {},
   "source": [
    "## Models (for the condition with no emotional display) across various snapshots"
   ]
  },
  {
   "cell_type": "code",
   "execution_count": 9,
   "id": "f0693547-690f-45a0-b08f-4323000fbd06",
   "metadata": {},
   "outputs": [],
   "source": [
    "# These parameters are fixed across both conditions (emotions and no-emotions)\n",
    "# A noise parameter which controls how much randomness is added at each conditional sampling (e.g., drawing actions from belief and desire) was allowed to vary across both conditions\n",
    "\n",
    "# The model assumes that people perceive others to have high knowledgability.\n",
    "# We simulated this using a beta distribution with a = 5 and b = 2 (mean of .71).\n",
    "a = 5\n",
    "b = 2\n",
    "\n",
    "d = .5 # fixed prior for desire\n",
    "delay = .2 # probability that first action had a delayed effect\n",
    "human_prior = [0.3816152,0.3063088,0.3120760]"
   ]
  },
  {
   "cell_type": "code",
   "execution_count": 10,
   "id": "9139d72f-7702-4fa3-9df0-a7b0e47712c6",
   "metadata": {},
   "outputs": [],
   "source": [
    "np.random.seed(123456)"
   ]
  },
  {
   "cell_type": "code",
   "execution_count": 11,
   "id": "0606a823",
   "metadata": {},
   "outputs": [
    {
     "name": "stderr",
     "output_type": "stream",
     "text": [
      "Multiprocess sampling (4 chains in 4 jobs)\n",
      "CompoundStep\n",
      ">CategoricalGibbsMetropolis: [belief1_random, world_prior, world]\n",
      ">NUTS: [knowledge_p]\n",
      ">CompoundStep\n",
      ">>Metropolis: [desire]\n",
      ">>Metropolis: [knowledge]\n"
     ]
    },
    {
     "data": {
      "text/html": [
       "\n",
       "    <div>\n",
       "        <style>\n",
       "            /* Turns off some styling */\n",
       "            progress {\n",
       "                /* gets rid of default border in Firefox and Opera. */\n",
       "                border: none;\n",
       "                /* Needs to be in here for Safari polyfill so background images work as expected. */\n",
       "                background-size: auto;\n",
       "            }\n",
       "            .progress-bar-interrupted, .progress-bar-interrupted::-webkit-progress-bar {\n",
       "                background: #F44336;\n",
       "            }\n",
       "        </style>\n",
       "      <progress value='12000' class='' max='12000' style='width:300px; height:20px; vertical-align: middle;'></progress>\n",
       "      100.00% [12000/12000 00:03<00:00 Sampling 4 chains, 0 divergences]\n",
       "    </div>\n",
       "    "
      ],
      "text/plain": [
       "<IPython.core.display.HTML object>"
      ]
     },
     "metadata": {},
     "output_type": "display_data"
    },
    {
     "name": "stderr",
     "output_type": "stream",
     "text": [
      "Sampling 4 chains for 1_000 tune and 2_000 draw iterations (4_000 + 8_000 draws total) took 4 seconds.\n",
      "The number of effective samples is smaller than 25% for some parameters.\n"
     ]
    },
    {
     "name": "stdout",
     "output_type": "stream",
     "text": [
      "0.008897303966385519\n",
      "0.018941290048437084\n"
     ]
    }
   ],
   "source": [
    "with pm.Model() as model1ab:\n",
    "    noise = .25\n",
    "    world = pm.Categorical(\"world\", [human_prior], shape=(1)) # blue, orange, both\n",
    "    world_prior = pm.Categorical(\"world_prior\", [human_prior], shape=(1)) # blue, orange, both\n",
    "    knowledge_p = pm.Beta(\"knowledge_p\", a, b, shape=(1)) # reliability of the agent's knowledge\n",
    "    knowledge = pm.Binomial(\"knowledge\", 1, knowledge_p, shape=(1))\n",
    "    \n",
    "    belief1_random = pm.Categorical(\"belief1_random\", [1,1,1], shape=(1))\n",
    "    belief1 = pm.Deterministic(\"belief1\", knowledge*world + (1-knowledge)*belief1_random)\n",
    "    \n",
    "    desire = pm.Binomial(\"desire\",1, d, shape=(1)) # bulb=1, others=0\n",
    "\n",
    "    action1_blue_p = pm.Deterministic(\"action1_blue_p\", tt.eq(belief1,0)*desire*(1-noise) + \\\n",
    "                                      # if believe both are needed,\n",
    "                                      tt.eq(belief1,2)*desire*(1-noise) + \\\n",
    "                                      # mistaken action\n",
    "                                      tt.eq(belief1,1)*desire*noise +\\\n",
    "                                      # if desire something else\n",
    "                                      (1-desire)*noise)\n",
    "    action1_blue_p = perturb(action1_blue_p)\n",
    "    \n",
    "    action1_orange_p = pm.Deterministic(\"action1_orange_p\", tt.eq(belief1,1)*desire*(1-noise) + \\\n",
    "                                        # if belief both are needed,\n",
    "                                        tt.eq(belief1,2)*desire*(1-noise) + \\\n",
    "                                        # mistaken action\n",
    "                                        tt.eq(belief1,0)*desire*noise +\\\n",
    "                                        # if desire something else,\n",
    "                                        (1-desire)*noise)\n",
    "    action1_orange_p = perturb(action1_orange_p)\n",
    "    \n",
    "    action1_stack = tt.transpose(tt.stack(action1_blue_p,action1_orange_p,[noise*2]))\n",
    "    action1 = pm.Categorical(\"action1\",action1_stack,observed=0,shape=(1)) # blue orange others\n",
    "    \n",
    "    draw = 2000 \n",
    "    trace1ab = pm.sample(draw, tune=1000, chains=4, return_inferencedata=False)\n",
    "    \n",
    "unique, counts = np.unique(trace1ab[\"world_prior\"], return_counts=True)\n",
    "worldposterior_t1 = sort_category(unique, counts)\n",
    "rmse_output_t1 = rmse(worldposterior_t1, worldhuman_noemotion_t1)\n",
    "print(rmse_output_t1)\n",
    "unique, counts = np.unique(trace1ab[\"world\"], return_counts=True)\n",
    "worldposterior_t2 = sort_category(unique, counts)\n",
    "rmse_output_t2 = rmse(worldposterior_t2, worldhuman_noemotion_t2)\n",
    "print(rmse_output_t2)"
   ]
  },
  {
   "cell_type": "code",
   "execution_count": 12,
   "id": "802c2144",
   "metadata": {},
   "outputs": [
    {
     "name": "stderr",
     "output_type": "stream",
     "text": [
      "Multiprocess sampling (4 chains in 4 jobs)\n",
      "CompoundStep\n",
      ">CategoricalGibbsMetropolis: [belief2_random, belief1_random, world]\n",
      ">NUTS: [knowledge_p]\n",
      ">CompoundStep\n",
      ">>Metropolis: [desire]\n",
      ">>Metropolis: [knowledge]\n"
     ]
    },
    {
     "data": {
      "text/html": [
       "\n",
       "    <div>\n",
       "        <style>\n",
       "            /* Turns off some styling */\n",
       "            progress {\n",
       "                /* gets rid of default border in Firefox and Opera. */\n",
       "                border: none;\n",
       "                /* Needs to be in here for Safari polyfill so background images work as expected. */\n",
       "                background-size: auto;\n",
       "            }\n",
       "            .progress-bar-interrupted, .progress-bar-interrupted::-webkit-progress-bar {\n",
       "                background: #F44336;\n",
       "            }\n",
       "        </style>\n",
       "      <progress value='12000' class='' max='12000' style='width:300px; height:20px; vertical-align: middle;'></progress>\n",
       "      100.00% [12000/12000 00:04<00:00 Sampling 4 chains, 0 divergences]\n",
       "    </div>\n",
       "    "
      ],
      "text/plain": [
       "<IPython.core.display.HTML object>"
      ]
     },
     "metadata": {},
     "output_type": "display_data"
    },
    {
     "name": "stderr",
     "output_type": "stream",
     "text": [
      "Sampling 4 chains for 1_000 tune and 2_000 draw iterations (4_000 + 8_000 draws total) took 4 seconds.\n",
      "The acceptance probability does not match the target. It is 0.8867651667344303, but should be close to 0.8. Try to increase the number of tuning steps.\n",
      "The number of effective samples is smaller than 25% for some parameters.\n"
     ]
    },
    {
     "name": "stdout",
     "output_type": "stream",
     "text": [
      "0.1805633883315242\n"
     ]
    }
   ],
   "source": [
    "with pm.Model() as model1c:\n",
    "    noise = .25\n",
    "    world = pm.Categorical(\"world\", [human_prior], shape=(1)) # blue, orange, both\n",
    "    knowledge_p = pm.Beta(\"knowledge_p\", a, b, shape=(1)) # reliability of the agent's knowledge\n",
    "    knowledge = pm.Binomial(\"knowledge\", 1, knowledge_p, shape=(1))\n",
    "    \n",
    "    belief1_random = pm.Categorical(\"belief1_random\", [1,1,1], shape=(1))\n",
    "    belief1 = pm.Deterministic(\"belief1\", knowledge*world + (1-knowledge)*belief1_random)\n",
    "    \n",
    "    desire = pm.Binomial(\"desire\",1, d, shape=(1)) # bulb=1, others=0\n",
    "\n",
    "    action1_blue_p = pm.Deterministic(\"action1_blue_p\", tt.eq(belief1,0)*desire*(1-noise) + \\\n",
    "                                      # if believe both are needed,\n",
    "                                      tt.eq(belief1,2)*desire*(1-noise) + \\\n",
    "                                      # mistaken action\n",
    "                                      tt.eq(belief1,1)*desire*noise +\\\n",
    "                                      # if desire something else\n",
    "                                      (1-desire)*noise)\n",
    "    action1_blue_p = perturb(action1_blue_p)\n",
    "    \n",
    "    action1_orange_p = pm.Deterministic(\"action1_orange_p\", tt.eq(belief1,1)*desire*(1-noise) + \\\n",
    "                                        # if belief both are needed,\n",
    "                                        tt.eq(belief1,2)*desire*(1-noise) + \\\n",
    "                                        # mistaken action\n",
    "                                        tt.eq(belief1,0)*desire*noise +\\\n",
    "                                        # if desire something else,\n",
    "                                        (1-desire)*noise)\n",
    "    action1_orange_p = perturb(action1_orange_p)\n",
    "    \n",
    "    action1_stack = tt.transpose(tt.stack(action1_blue_p,action1_orange_p,[noise*2]))\n",
    "    action1 = pm.Categorical(\"action1\",action1_stack,observed=0,shape=(1)) # blue orange others\n",
    "    \n",
    "    outcome1_p = pm.Deterministic(\"outcome1_p\", tt.eq(world,0)*tt.eq(action1,0)*(1-delay) + \\\n",
    "                                  tt.eq(world,1)*tt.eq(action1,1)*(1-delay) + \\\n",
    "                                  # if both boxes are required, then outcome will not happen\n",
    "                                  tt.eq(world,2)*0)\n",
    "    outcome1_p = perturb(outcome1_p,noise) # add noise to outcome\n",
    "    \n",
    "    outcome1 = pm.Binomial(\"outcome1\", 1, outcome1_p, observed = 0 , shape = (1))\n",
    "    \n",
    "    happy1 = outcome1*desire*(1-noise) + noise*(1-desire)\n",
    "    # if agent believes both actions are needed, they won't be frustrated at the lack of an outcome\n",
    "    frustrated1 = (1-outcome1)*desire*tt.neq(belief1, 2)*(1-noise) + (1-outcome1)*desire*tt.eq(belief1, 2)*noise + noise*(1-desire)\n",
    "    neutral1 = [1]\n",
    "    emotion_array1 = tt.transpose(tt.stack(happy1, frustrated1, neutral1 ))\n",
    "    expression1 = pm.Categorical(\"expression1\",emotion_array1,observed=2 ) # happy, frustrated, neutral\n",
    "\n",
    "    # if frustrated, agent is likely to revise belief\n",
    "    # else stick to previous belief\n",
    "    belief2_random = pm.Categorical(\"belief2_random\", [1,1,1], shape=(1))\n",
    "    belief2 = pm.Deterministic(\"belief2\", tt.eq(expression1,1)*belief2_random + \\\n",
    "                              tt.neq(expression1,1)*belief1)\n",
    "    \n",
    "    draw = 2000 \n",
    "    trace1c = pm.sample(draw, tune=1000, chains=4, return_inferencedata=False)\n",
    "    \n",
    "unique, counts = np.unique(trace1c[\"world\"], return_counts=True)\n",
    "worldposterior_t3 = sort_category(unique, counts)\n",
    "rmse_output_t3 = rmse(worldposterior_t3, worldhuman_noemotion_t3)\n",
    "print(rmse_output_t3)"
   ]
  },
  {
   "cell_type": "code",
   "execution_count": 13,
   "id": "0e7ee567",
   "metadata": {},
   "outputs": [
    {
     "name": "stderr",
     "output_type": "stream",
     "text": [
      "Multiprocess sampling (4 chains in 4 jobs)\n",
      "CompoundStep\n",
      ">CategoricalGibbsMetropolis: [belief2_random, belief1_random, world]\n",
      ">NUTS: [knowledge_p]\n",
      ">CompoundStep\n",
      ">>Metropolis: [desire]\n",
      ">>Metropolis: [knowledge]\n"
     ]
    },
    {
     "data": {
      "text/html": [
       "\n",
       "    <div>\n",
       "        <style>\n",
       "            /* Turns off some styling */\n",
       "            progress {\n",
       "                /* gets rid of default border in Firefox and Opera. */\n",
       "                border: none;\n",
       "                /* Needs to be in here for Safari polyfill so background images work as expected. */\n",
       "                background-size: auto;\n",
       "            }\n",
       "            .progress-bar-interrupted, .progress-bar-interrupted::-webkit-progress-bar {\n",
       "                background: #F44336;\n",
       "            }\n",
       "        </style>\n",
       "      <progress value='12000' class='' max='12000' style='width:300px; height:20px; vertical-align: middle;'></progress>\n",
       "      100.00% [12000/12000 00:04<00:00 Sampling 4 chains, 0 divergences]\n",
       "    </div>\n",
       "    "
      ],
      "text/plain": [
       "<IPython.core.display.HTML object>"
      ]
     },
     "metadata": {},
     "output_type": "display_data"
    },
    {
     "name": "stderr",
     "output_type": "stream",
     "text": [
      "Sampling 4 chains for 1_000 tune and 2_000 draw iterations (4_000 + 8_000 draws total) took 5 seconds.\n",
      "The number of effective samples is smaller than 25% for some parameters.\n"
     ]
    },
    {
     "name": "stdout",
     "output_type": "stream",
     "text": [
      "0.18072398840019893\n"
     ]
    }
   ],
   "source": [
    "with pm.Model() as model1d:\n",
    "    noise = .25\n",
    "    world = pm.Categorical(\"world\", [human_prior], shape=(1)) # blue, orange, both\n",
    "    knowledge_p = pm.Beta(\"knowledge_p\", a, b, shape=(1)) # reliability of the agent's knowledge\n",
    "    knowledge = pm.Binomial(\"knowledge\", 1, knowledge_p, shape=(1))\n",
    "    \n",
    "    belief1_random = pm.Categorical(\"belief1_random\", [1,1,1], shape=(1))\n",
    "    belief1 = pm.Deterministic(\"belief1\", knowledge*world + (1-knowledge)*belief1_random)\n",
    "    \n",
    "    desire = pm.Binomial(\"desire\",1, d, shape=(1)) # bulb=1, others=0\n",
    "\n",
    "    action1_blue_p = pm.Deterministic(\"action1_blue_p\", tt.eq(belief1,0)*desire*(1-noise) + \\\n",
    "                                      # if believe both are needed,\n",
    "                                      tt.eq(belief1,2)*desire*(1-noise) + \\\n",
    "                                      # mistaken action\n",
    "                                      tt.eq(belief1,1)*desire*noise +\\\n",
    "                                      # if desire something else\n",
    "                                      (1-desire)*noise)\n",
    "    action1_blue_p = perturb(action1_blue_p)\n",
    "    \n",
    "    action1_orange_p = pm.Deterministic(\"action1_orange_p\", tt.eq(belief1,1)*desire*(1-noise) + \\\n",
    "                                        # if belief both are needed,\n",
    "                                        tt.eq(belief1,2)*desire*(1-noise) + \\\n",
    "                                        # mistaken action\n",
    "                                        tt.eq(belief1,0)*desire*noise +\\\n",
    "                                        # if desire something else,\n",
    "                                        (1-desire)*noise)\n",
    "    action1_orange_p = perturb(action1_orange_p)\n",
    "    \n",
    "    action1_stack = tt.transpose(tt.stack(action1_blue_p,action1_orange_p,[noise*2]))\n",
    "    action1 = pm.Categorical(\"action1\",action1_stack,observed=0,shape=(1)) # blue orange others\n",
    "    \n",
    "    outcome1_p = pm.Deterministic(\"outcome1_p\", tt.eq(world,0)*tt.eq(action1,0)*(1-delay) + \\\n",
    "                                  tt.eq(world,1)*tt.eq(action1,1)*(1-delay) + \\\n",
    "                                  # if both boxes are required, then outcome will not happen\n",
    "                                  tt.eq(world,2)*0)\n",
    "    outcome1_p = perturb(outcome1_p,noise) # add noise to outcome\n",
    "    \n",
    "    outcome1 = pm.Binomial(\"outcome1\", 1, outcome1_p, observed = 0 , shape = (1))\n",
    "    \n",
    "    happy1 = outcome1*desire*(1-noise) + noise*(1-desire)\n",
    "    # if agent believes both actions are needed, they won't be frustrated at the lack of an outcome\n",
    "    frustrated1 = (1-outcome1)*desire*tt.neq(belief1, 2)*(1-noise) + (1-outcome1)*desire*tt.eq(belief1, 2)*noise + noise*(1-desire)\n",
    "    neutral1 = [1]\n",
    "    emotion_array1 = tt.transpose(tt.stack(happy1, frustrated1, neutral1 ))\n",
    "    expression1 = pm.Categorical(\"expression1\",emotion_array1,observed=2 ) # happy, frustrated, neutral\n",
    "\n",
    "    # if frustrated, agent is likely to revise belief\n",
    "    # else stick to previous belief\n",
    "    belief2_random = pm.Categorical(\"belief2_random\", [1,1,1], shape=(1))\n",
    "    belief2 = pm.Deterministic(\"belief2\", tt.eq(expression1,1)*belief2_random + \\\n",
    "                              tt.neq(expression1,1)*belief1)\n",
    "    \n",
    "    # if outcome has been reached (and agent desired outcome), then likely no action would follow \n",
    "    action2_blue_p = pm.Deterministic(\"action2_blue_p\", tt.switch(tt.eq(outcome1,0)*desire, \\\n",
    "                                                                  tt.eq(belief2,0)*(1-noise) + \\\n",
    "                                                                  # if belief both are needed and orange was pushed previously, then push blue\n",
    "                                                                  tt.eq(belief2,2)*tt.eq(action1,1)*(1-noise)+ \\\n",
    "                                                                  # mistaken action\n",
    "                                                                  tt.eq(belief2,1)*noise,\n",
    "                                                                  # if outcome was reached at t1, no further action required\n",
    "                                                                  noise)) \n",
    "    action2_blue_p = perturb(action2_blue_p)\n",
    "    \n",
    "    # if outcome has been reached (and agent desired outcome), then likely no action would follow \n",
    "    action2_orange_p = pm.Deterministic(\"action2_orange_p\", tt.switch(tt.eq(outcome1,0)*desire, \\\n",
    "                                                                  tt.eq(belief2,1)*(1-noise) + \\\n",
    "                                                                  # if belief both are needed and blue was pushed previously, then push orange \n",
    "                                                                  tt.eq(belief2,2)*tt.eq(action1,0)*(1-noise)+ \\\n",
    "                                                                  # mistaken action\n",
    "                                                                  tt.eq(belief2,0)*noise,\n",
    "                                                                  noise)) \n",
    "    action2_orange_p = perturb(action2_orange_p)\n",
    "    action2_stack = tt.transpose(tt.stack(action2_blue_p, action2_orange_p, [noise*2]))\n",
    "    action2 = pm.Categorical(\"action2\", action2_stack, observed=1, shape=(1)) # blue orange others\n",
    "    \n",
    "    draw = 2000 \n",
    "    trace1d = pm.sample(draw, tune=1000, chains=4, return_inferencedata=False)\n",
    "    \n",
    "unique, counts = np.unique(trace1d[\"world\"], return_counts=True)\n",
    "worldposterior_t4 = sort_category(unique, counts)\n",
    "rmse_output_t4 = rmse(worldposterior_t4, worldhuman_noemotion_t4)\n",
    "print(rmse_output_t4)"
   ]
  },
  {
   "cell_type": "code",
   "execution_count": 14,
   "id": "9ddc37f1-8778-4951-aef9-f4d382ad8f7f",
   "metadata": {},
   "outputs": [
    {
     "name": "stderr",
     "output_type": "stream",
     "text": [
      "Multiprocess sampling (4 chains in 4 jobs)\n",
      "CompoundStep\n",
      ">CategoricalGibbsMetropolis: [belief2_random, belief1_random, world]\n",
      ">NUTS: [knowledge_p]\n",
      ">CompoundStep\n",
      ">>Metropolis: [desire]\n",
      ">>Metropolis: [knowledge]\n"
     ]
    },
    {
     "data": {
      "text/html": [
       "\n",
       "    <div>\n",
       "        <style>\n",
       "            /* Turns off some styling */\n",
       "            progress {\n",
       "                /* gets rid of default border in Firefox and Opera. */\n",
       "                border: none;\n",
       "                /* Needs to be in here for Safari polyfill so background images work as expected. */\n",
       "                background-size: auto;\n",
       "            }\n",
       "            .progress-bar-interrupted, .progress-bar-interrupted::-webkit-progress-bar {\n",
       "                background: #F44336;\n",
       "            }\n",
       "        </style>\n",
       "      <progress value='12000' class='' max='12000' style='width:300px; height:20px; vertical-align: middle;'></progress>\n",
       "      100.00% [12000/12000 00:04<00:00 Sampling 4 chains, 0 divergences]\n",
       "    </div>\n",
       "    "
      ],
      "text/plain": [
       "<IPython.core.display.HTML object>"
      ]
     },
     "metadata": {},
     "output_type": "display_data"
    },
    {
     "name": "stderr",
     "output_type": "stream",
     "text": [
      "Sampling 4 chains for 1_000 tune and 2_000 draw iterations (4_000 + 8_000 draws total) took 6 seconds.\n",
      "The number of effective samples is smaller than 25% for some parameters.\n"
     ]
    },
    {
     "name": "stdout",
     "output_type": "stream",
     "text": [
      "0.10009608917965063\n"
     ]
    }
   ],
   "source": [
    "with pm.Model() as model1:\n",
    "    # the noise parameter affects the amount of randomness included into the sampling process. \n",
    "    # For example, a person's actions might sometimes be incongruent to his intentions and event relationships can be noisy\n",
    "    # we set a higher noise parameter for the no-emotion condition as this led to slightly better model fit\n",
    "    # however, even when we fixed the noise for both models, the overall inference patterns remained qualitatively similar\n",
    "    noise = .25\n",
    "    world = pm.Categorical(\"world\", [human_prior], shape=(1)) # blue, orange, both\n",
    "    knowledge_p = pm.Beta(\"knowledge_p\", a, b, shape=(1)) # reliability of the agent's knowledge\n",
    "    knowledge = pm.Binomial(\"knowledge\", 1, knowledge_p, shape=(1))\n",
    "    \n",
    "    belief1_random = pm.Categorical(\"belief1_random\", [1,1,1], shape=(1)) # blue, orange, both\n",
    "    belief1 = pm.Deterministic(\"belief1\", knowledge*world + (1-knowledge)*belief1_random)\n",
    "    \n",
    "    desire = pm.Binomial(\"desire\", 1, d, shape=(1)) # desire bulb to turn on=1, others=0\n",
    "\n",
    "    action1_blue_p = pm.Deterministic(\"action1_blue_p\", tt.eq(belief1,0)*desire*(1-noise) + \\\n",
    "                                      # if believe both are needed,\n",
    "                                      tt.eq(belief1,2)*desire*(1-noise) + \\\n",
    "                                      # mistaken action\n",
    "                                      tt.eq(belief1,1)*desire*noise +\\\n",
    "                                      # if desire something else\n",
    "                                      (1-desire)*noise)\n",
    "    action1_blue_p = perturb(action1_blue_p) # perturb ensures that the probability is not equals to 1 or 0\n",
    "    \n",
    "    action1_orange_p = pm.Deterministic(\"action1_orange_p\", tt.eq(belief1,1)*desire*(1-noise) + \\\n",
    "                                        # if believe both are needed,\n",
    "                                        tt.eq(belief1,2)*desire*(1-noise) + \\\n",
    "                                        # mistaken action\n",
    "                                        tt.eq(belief1,0)*desire*noise +\\\n",
    "                                        # if desire something else,\n",
    "                                        (1-desire)*noise)\n",
    "    action1_orange_p = perturb(action1_orange_p) # perturb ensures that the probability is not equals to 1 or 0\n",
    "    \n",
    "    action1_stack = tt.transpose(tt.stack(action1_blue_p,action1_orange_p,[noise*2]))\n",
    "    action1 = pm.Categorical(\"action1\",action1_stack,observed=0,shape=(1)) # blue orange others\n",
    "    \n",
    "    outcome1_p = pm.Deterministic(\"outcome1_p\", tt.eq(world,0)*tt.eq(action1,0)*(1-delay) + \\\n",
    "                                  tt.eq(world,1)*tt.eq(action1,1)*(1-delay) + \\\n",
    "                                  # if both boxes are required, then outcome will likely not happen\n",
    "                                  tt.eq(world,2)*0)\n",
    "    outcome1_p = perturb(outcome1_p,noise) # add noise to outcome when probability is 1 or 0\n",
    "    \n",
    "    outcome1 = pm.Binomial(\"outcome1\", 1, outcome1_p, observed = 0 , shape = (1))\n",
    "    \n",
    "    happy1 = outcome1*desire*(1-noise) + noise*(1-desire)\n",
    "    # if agent believes both actions are needed, they likely won't be frustrated at the lack of an outcome\n",
    "    frustrated1 = (1-outcome1)*desire*tt.neq(belief1, 2)*(1-noise) + (1-outcome1)*desire*tt.eq(belief1, 2)*noise + noise*(1-desire)\n",
    "    neutral1 = [1]\n",
    "    emotion_array1 = tt.transpose(tt.stack(happy1, frustrated1, neutral1 ))\n",
    "    expression1 = pm.Categorical(\"expression1\",emotion_array1,observed=2 ) # happy, frustrated, neutral\n",
    "\n",
    "    # if frustrated, agent is likely to revise belief\n",
    "    # else stick to previous belief\n",
    "    belief2_random = pm.Categorical(\"belief2_random\", [1,1,1], shape=(1))\n",
    "    belief2 = pm.Deterministic(\"belief2\", tt.eq(expression1,1)*belief2_random + \\\n",
    "                              tt.neq(expression1,1)*belief1)\n",
    "    \n",
    "    # if outcome has been reached (and agent desired outcome), then likely no action would follow \n",
    "    action2_blue_p = pm.Deterministic(\"action2_blue_p\", tt.switch(tt.eq(outcome1,0)*desire, \\\n",
    "                                                                  tt.eq(belief2,0)*(1-noise) + \\\n",
    "                                                                  # if believe both are needed and orange was pushed previously, then push blue\n",
    "                                                                  tt.eq(belief2,2)*tt.eq(action1,1)*(1-noise)+ \\\n",
    "                                                                  # mistaken action\n",
    "                                                                  tt.eq(belief2,1)*noise,\n",
    "                                                                  # if outcome was reached at t1, no further action required\n",
    "                                                                  noise)) \n",
    "    action2_blue_p = perturb(action2_blue_p)\n",
    "    \n",
    "    # if outcome has been reached (and agent desired outcome), then likely no action would follow \n",
    "    action2_orange_p = pm.Deterministic(\"action2_orange_p\", tt.switch(tt.eq(outcome1,0)*desire, \\\n",
    "                                                                  tt.eq(belief2,1)*(1-noise) + \\\n",
    "                                                                  # if believe both are needed and blue was pushed previously, then push orange \n",
    "                                                                  tt.eq(belief2,2)*tt.eq(action1,0)*(1-noise)+ \\\n",
    "                                                                  # mistaken action\n",
    "                                                                  tt.eq(belief2,0)*noise,\n",
    "                                                                  noise)) \n",
    "    action2_orange_p = perturb(action2_orange_p)\n",
    "    action2_stack = tt.transpose(tt.stack(action2_blue_p, action2_orange_p, [noise*2]))\n",
    "    action2 = pm.Categorical(\"action2\", action2_stack, observed=1, shape=(1)) # blue orange others\n",
    "    \n",
    "    outcome2_p = pm.Deterministic(\"outcome2_p\", tt.eq(world,0)*tt.eq(action2,0) + \\\n",
    "                                  # if previous action has a delayed effect\n",
    "                                  tt.eq(world,0)*tt.eq(action1,0)*tt.neq(action2,0)*delay + \\\n",
    "                                  tt.eq(world,1)*tt.eq(action2,1) + \\\n",
    "                                  # if previous action has a delayed effect\n",
    "                                  tt.eq(world,1)*tt.eq(action1,1)*tt.neq(action2,1)*delay + \\\n",
    "                                  tt.eq(world,2)*tt.eq(action1,0)*tt.eq(action2,1)+ \\\n",
    "                                  tt.eq(world,2)*tt.eq(action1,1)*tt.eq(action2,0)) \n",
    "    outcome2_p = perturb(outcome2_p, noise)\n",
    "    outcome2 = pm.Binomial(\"outcome2\", 1, outcome2_p, observed = 1, shape = (1))\n",
    "    \n",
    "    happy2 = outcome2*desire*(1-noise) + noise*(1-desire)\n",
    "    frustrated2 = (1-outcome2)*desire*(1-noise) + noise*(1-desire)\n",
    "    neutral2 = [1]\n",
    "    emotion_array2 = tt.transpose(tt.stack(happy2, frustrated2, neutral2 ))\n",
    "    expression2 = pm.Categorical(\"expression2\",emotion_array2,observed=2 ) # happy, frustrated, neutral\n",
    "    \n",
    "    draw = 2000 \n",
    "    trace1e = pm.sample(draw, tune=1000, chains=4, return_inferencedata=False)\n",
    "    \n",
    "unique, counts = np.unique(trace1e[\"world\"], return_counts=True)\n",
    "worldposterior_t5 = sort_category(unique, counts)\n",
    "rmse_output_t5 = rmse(worldposterior_t5, worldhuman_noemotion_t5)\n",
    "print(rmse_output_t5)"
   ]
  },
  {
   "cell_type": "markdown",
   "id": "531a762f-e205-4663-98aa-c0518f129e7f",
   "metadata": {},
   "source": [
    "### Summary statistics"
   ]
  },
  {
   "cell_type": "code",
   "execution_count": 15,
   "id": "d62cdc1e",
   "metadata": {},
   "outputs": [
    {
     "name": "stdout",
     "output_type": "stream",
     "text": [
      "world t1: {0: 3008, 1: 2481, 2: 2511}\n",
      "[0.376    0.310125 0.313875]\n"
     ]
    }
   ],
   "source": [
    "unique, counts = np.unique(trace1ab[\"world_prior\"], return_counts=True)\n",
    "print(\"world t1: \" + str(dict(zip(unique, counts))))\n",
    "print(sort_category(unique, counts))"
   ]
  },
  {
   "cell_type": "code",
   "execution_count": 16,
   "id": "1faf207e",
   "metadata": {},
   "outputs": [
    {
     "name": "stdout",
     "output_type": "stream",
     "text": [
      "world t1 :[array([0.347, 0.283, 0.285]), array([0.406, 0.336, 0.343])]\n"
     ]
    }
   ],
   "source": [
    "np.random.seed(123456)\n",
    "print(\"world t1 :\" + str(compute_ci_discrete(flatten(trace1ab[\"world_prior\"]), HDI = .95, n = 1000, sim = 1000)))"
   ]
  },
  {
   "cell_type": "code",
   "execution_count": 17,
   "id": "59a29f7c",
   "metadata": {},
   "outputs": [
    {
     "name": "stdout",
     "output_type": "stream",
     "text": [
      "world t2: {0: 3586, 1: 1841, 2: 2573}\n",
      "[0.44825  0.230125 0.321625]\n"
     ]
    }
   ],
   "source": [
    "unique, counts = np.unique(trace1ab[\"world\"], return_counts=True)\n",
    "print(\"world t2: \" + str(dict(zip(unique, counts))))\n",
    "print(sort_category(unique, counts))"
   ]
  },
  {
   "cell_type": "code",
   "execution_count": 18,
   "id": "cb981183",
   "metadata": {},
   "outputs": [
    {
     "name": "stdout",
     "output_type": "stream",
     "text": [
      "world t2 :[array([0.417975, 0.205   , 0.292   ]), array([0.479, 0.255, 0.352])]\n"
     ]
    }
   ],
   "source": [
    "np.random.seed(123456)\n",
    "print(\"world t2 :\" + str(compute_ci_discrete(flatten(trace1ab[\"world\"]), HDI = .95, n = 1000, sim = 1000)))"
   ]
  },
  {
   "cell_type": "code",
   "execution_count": 19,
   "id": "3128e8ab",
   "metadata": {},
   "outputs": [
    {
     "name": "stdout",
     "output_type": "stream",
     "text": [
      "world t3: {0: 1288, 1: 2638, 2: 4074}\n",
      "[0.161   0.32975 0.50925]\n"
     ]
    }
   ],
   "source": [
    "unique, counts = np.unique(trace1c[\"world\"], return_counts=True)\n",
    "print(\"world t3: \" + str(dict(zip(unique, counts))))\n",
    "print(sort_category(unique, counts))"
   ]
  },
  {
   "cell_type": "code",
   "execution_count": 20,
   "id": "f187561f",
   "metadata": {},
   "outputs": [
    {
     "name": "stdout",
     "output_type": "stream",
     "text": [
      "world t3 :[array([0.139, 0.303, 0.48 ]), array([0.182, 0.357, 0.541])]\n"
     ]
    }
   ],
   "source": [
    "np.random.seed(123456)\n",
    "print(\"world t3 :\" + str(compute_ci_discrete(flatten(trace1c[\"world\"]), HDI = .95, n = 1000, sim = 1000)))"
   ]
  },
  {
   "cell_type": "code",
   "execution_count": 21,
   "id": "2ddd95dd",
   "metadata": {},
   "outputs": [
    {
     "name": "stdout",
     "output_type": "stream",
     "text": [
      "world t4: {0: 801, 1: 2438, 2: 4761}\n",
      "[0.100125 0.30475  0.595125]\n"
     ]
    }
   ],
   "source": [
    "unique, counts = np.unique(trace1d[\"world\"], return_counts=True)\n",
    "print(\"world t4: \" + str(dict(zip(unique, counts))))\n",
    "print(sort_category(unique, counts))"
   ]
  },
  {
   "cell_type": "code",
   "execution_count": 22,
   "id": "c4651484",
   "metadata": {},
   "outputs": [
    {
     "name": "stdout",
     "output_type": "stream",
     "text": [
      "world t4 :[array([0.081, 0.275, 0.565]), array([0.12    , 0.333025, 0.624   ])]\n"
     ]
    }
   ],
   "source": [
    "np.random.seed(123456)\n",
    "print(\"world t4 :\" + str(compute_ci_discrete(flatten(trace1d[\"world\"]), HDI = .95, n = 1000, sim = 1000)))"
   ]
  },
  {
   "cell_type": "code",
   "execution_count": 23,
   "id": "08011e0b",
   "metadata": {},
   "outputs": [
    {
     "name": "stdout",
     "output_type": "stream",
     "text": [
      "world t5: {0: 217, 1: 2589, 2: 5194}\n",
      "[0.027125 0.323625 0.64925 ]\n"
     ]
    }
   ],
   "source": [
    "unique, counts = np.unique(trace1e[\"world\"], return_counts=True)\n",
    "print(\"world t5: \" + str(dict(zip(unique, counts))))\n",
    "print(sort_category(unique, counts))"
   ]
  },
  {
   "cell_type": "code",
   "execution_count": 24,
   "id": "85434b0c",
   "metadata": {},
   "outputs": [
    {
     "name": "stdout",
     "output_type": "stream",
     "text": [
      "world t5 :[array([0.017   , 0.296975, 0.621   ]), array([0.038   , 0.35    , 0.676025])]\n"
     ]
    }
   ],
   "source": [
    "np.random.seed(123456)\n",
    "print(\"world t5 :\" + str(compute_ci_discrete(flatten(trace1e[\"world\"]), HDI = .95, n = 1000, sim = 1000)))"
   ]
  },
  {
   "cell_type": "markdown",
   "id": "38638d97",
   "metadata": {},
   "source": [
    "## Models (for the condition with emotional displays) across various snapshots"
   ]
  },
  {
   "cell_type": "code",
   "execution_count": 25,
   "id": "96a6fe29-26c3-4126-bd9b-06d54931fa8b",
   "metadata": {},
   "outputs": [],
   "source": [
    "np.random.seed(123456)"
   ]
  },
  {
   "cell_type": "code",
   "execution_count": 26,
   "id": "a861f640",
   "metadata": {},
   "outputs": [
    {
     "name": "stderr",
     "output_type": "stream",
     "text": [
      "Multiprocess sampling (4 chains in 4 jobs)\n",
      "CompoundStep\n",
      ">CategoricalGibbsMetropolis: [belief1_random, world_prior, world]\n",
      ">NUTS: [knowledge_p]\n",
      ">CompoundStep\n",
      ">>Metropolis: [desire]\n",
      ">>Metropolis: [knowledge]\n"
     ]
    },
    {
     "data": {
      "text/html": [
       "\n",
       "    <div>\n",
       "        <style>\n",
       "            /* Turns off some styling */\n",
       "            progress {\n",
       "                /* gets rid of default border in Firefox and Opera. */\n",
       "                border: none;\n",
       "                /* Needs to be in here for Safari polyfill so background images work as expected. */\n",
       "                background-size: auto;\n",
       "            }\n",
       "            .progress-bar-interrupted, .progress-bar-interrupted::-webkit-progress-bar {\n",
       "                background: #F44336;\n",
       "            }\n",
       "        </style>\n",
       "      <progress value='12000' class='' max='12000' style='width:300px; height:20px; vertical-align: middle;'></progress>\n",
       "      100.00% [12000/12000 00:03<00:00 Sampling 4 chains, 0 divergences]\n",
       "    </div>\n",
       "    "
      ],
      "text/plain": [
       "<IPython.core.display.HTML object>"
      ]
     },
     "metadata": {},
     "output_type": "display_data"
    },
    {
     "name": "stderr",
     "output_type": "stream",
     "text": [
      "Sampling 4 chains for 1_000 tune and 2_000 draw iterations (4_000 + 8_000 draws total) took 4 seconds.\n",
      "The acceptance probability does not match the target. It is 0.7181823987179625, but should be close to 0.8. Try to increase the number of tuning steps.\n",
      "The number of effective samples is smaller than 25% for some parameters.\n"
     ]
    },
    {
     "name": "stdout",
     "output_type": "stream",
     "text": [
      "0.008793143141218023\n",
      "0.033023137790958945\n"
     ]
    }
   ],
   "source": [
    "with pm.Model() as model2ab:\n",
    "    noise = .15\n",
    "    world = pm.Categorical(\"world\", [human_prior], shape=(1)) # blue, orange, both\n",
    "    world_prior = pm.Categorical(\"world_prior\", [human_prior], shape=(1)) # blue, orange, both\n",
    "    knowledge_p = pm.Beta(\"knowledge_p\", a, b, shape=(1)) # reliability of the agent's knowledge\n",
    "    knowledge = pm.Binomial(\"knowledge\", 1, knowledge_p, shape=(1))\n",
    "    \n",
    "    belief1_random = pm.Categorical(\"belief1_random\", [1,1,1], shape=(1))\n",
    "    belief1 = pm.Deterministic(\"belief1\", knowledge*world + (1-knowledge)*belief1_random)\n",
    "    \n",
    "    desire = pm.Binomial(\"desire\",1, d, shape=(1)) # bulb=1, others=0\n",
    "\n",
    "    action1_blue_p = pm.Deterministic(\"action1_blue_p\", tt.eq(belief1,0)*desire*(1-noise) + \\\n",
    "                                      # if believe both are needed,\n",
    "                                      tt.eq(belief1,2)*desire*(1-noise) + \\\n",
    "                                      # mistaken action\n",
    "                                      tt.eq(belief1,1)*desire*noise +\\\n",
    "                                      # if desire something else\n",
    "                                      (1-desire)*noise)\n",
    "    action1_blue_p = perturb(action1_blue_p)\n",
    "    \n",
    "    action1_orange_p = pm.Deterministic(\"action1_orange_p\", tt.eq(belief1,1)*desire*(1-noise) + \\\n",
    "                                        # if belief both are needed,\n",
    "                                        tt.eq(belief1,2)*desire*(1-noise) + \\\n",
    "                                        # mistaken action\n",
    "                                        tt.eq(belief1,0)*desire*noise +\\\n",
    "                                        # if desire something else,\n",
    "                                        (1-desire)*noise)\n",
    "    action1_orange_p = perturb(action1_orange_p)\n",
    "    \n",
    "    action1_stack = tt.transpose(tt.stack(action1_blue_p,action1_orange_p,[noise*2]))\n",
    "    action1 = pm.Categorical(\"action1\",action1_stack,observed=0,shape=(1)) # blue orange others\n",
    "    \n",
    "    draw = 2000 \n",
    "    trace2ab = pm.sample(draw, tune=1000, chains=4, return_inferencedata=False)\n",
    "\n",
    "unique, counts = np.unique(trace2ab[\"world_prior\"], return_counts=True)\n",
    "worldposterior_t1 = sort_category(unique, counts)\n",
    "rmse_output_t1 = rmse(worldposterior_t1, worldhuman_emotion_t1)\n",
    "print(rmse_output_t1)\n",
    "unique, counts = np.unique(trace2ab[\"world\"], return_counts=True)\n",
    "worldposterior_t2 = sort_category(unique, counts)\n",
    "rmse_output_t2 = rmse(worldposterior_t2, worldhuman_emotion_t2)\n",
    "print(rmse_output_t2)"
   ]
  },
  {
   "cell_type": "code",
   "execution_count": 27,
   "id": "b63460f0",
   "metadata": {},
   "outputs": [
    {
     "name": "stderr",
     "output_type": "stream",
     "text": [
      "Multiprocess sampling (4 chains in 4 jobs)\n",
      "CompoundStep\n",
      ">CategoricalGibbsMetropolis: [belief2_random, belief1_random, world]\n",
      ">NUTS: [knowledge_p]\n",
      ">CompoundStep\n",
      ">>Metropolis: [desire]\n",
      ">>Metropolis: [knowledge]\n"
     ]
    },
    {
     "data": {
      "text/html": [
       "\n",
       "    <div>\n",
       "        <style>\n",
       "            /* Turns off some styling */\n",
       "            progress {\n",
       "                /* gets rid of default border in Firefox and Opera. */\n",
       "                border: none;\n",
       "                /* Needs to be in here for Safari polyfill so background images work as expected. */\n",
       "                background-size: auto;\n",
       "            }\n",
       "            .progress-bar-interrupted, .progress-bar-interrupted::-webkit-progress-bar {\n",
       "                background: #F44336;\n",
       "            }\n",
       "        </style>\n",
       "      <progress value='12000' class='' max='12000' style='width:300px; height:20px; vertical-align: middle;'></progress>\n",
       "      100.00% [12000/12000 00:03<00:00 Sampling 4 chains, 0 divergences]\n",
       "    </div>\n",
       "    "
      ],
      "text/plain": [
       "<IPython.core.display.HTML object>"
      ]
     },
     "metadata": {},
     "output_type": "display_data"
    },
    {
     "name": "stderr",
     "output_type": "stream",
     "text": [
      "Sampling 4 chains for 1_000 tune and 2_000 draw iterations (4_000 + 8_000 draws total) took 5 seconds.\n",
      "The number of effective samples is smaller than 25% for some parameters.\n"
     ]
    },
    {
     "name": "stdout",
     "output_type": "stream",
     "text": [
      "0.04104348105870343\n"
     ]
    }
   ],
   "source": [
    "with pm.Model() as model2c:\n",
    "    noise = .15\n",
    "    world = pm.Categorical(\"world\", [human_prior], shape=(1)) # blue, orange, both\n",
    "    knowledge_p = pm.Beta(\"knowledge_p\", a, b, shape=(1)) # reliability of the agent's knowledge\n",
    "    knowledge = pm.Binomial(\"knowledge\", 1, knowledge_p, shape=(1))\n",
    "    \n",
    "    belief1_random = pm.Categorical(\"belief1_random\", [1,1,1], shape=(1))\n",
    "    belief1 = pm.Deterministic(\"belief1\", knowledge*world + (1-knowledge)*belief1_random)\n",
    "    \n",
    "    desire = pm.Binomial(\"desire\",1, d, shape=(1)) # bulb=1, others=0\n",
    "\n",
    "    action1_blue_p = pm.Deterministic(\"action1_blue_p\", tt.eq(belief1,0)*desire*(1-noise) + \\\n",
    "                                      # if believe both are needed,\n",
    "                                      tt.eq(belief1,2)*desire*(1-noise) + \\\n",
    "                                      # mistaken action\n",
    "                                      tt.eq(belief1,1)*desire*noise +\\\n",
    "                                      # if desire something else\n",
    "                                      (1-desire)*noise)\n",
    "    action1_blue_p = perturb(action1_blue_p)\n",
    "    \n",
    "    action1_orange_p = pm.Deterministic(\"action1_orange_p\", tt.eq(belief1,1)*desire*(1-noise) + \\\n",
    "                                        # if belief both are needed,\n",
    "                                        tt.eq(belief1,2)*desire*(1-noise) + \\\n",
    "                                        # mistaken action\n",
    "                                        tt.eq(belief1,0)*desire*noise +\\\n",
    "                                        # if desire something else,\n",
    "                                        (1-desire)*noise)\n",
    "    action1_orange_p = perturb(action1_orange_p)\n",
    "    \n",
    "    action1_stack = tt.transpose(tt.stack(action1_blue_p,action1_orange_p,[noise*2]))\n",
    "    action1 = pm.Categorical(\"action1\",action1_stack,observed=0,shape=(1)) # blue orange others\n",
    "    \n",
    "    outcome1_p = pm.Deterministic(\"outcome1_p\", tt.eq(world,0)*tt.eq(action1,0)*(1-delay) + \\\n",
    "                                  tt.eq(world,1)*tt.eq(action1,1)*(1-delay) + \\\n",
    "                                  # if both boxes are required, then outcome will not happen\n",
    "                                  tt.eq(world,2)*0)\n",
    "    outcome1_p = perturb(outcome1_p,noise) # add noise to outcome\n",
    "    \n",
    "    outcome1 = pm.Binomial(\"outcome1\", 1, outcome1_p, observed = 0 , shape = (1))\n",
    "    \n",
    "    happy1 = outcome1*desire*(1-noise) + noise*(1-desire)\n",
    "    # if agent believes both actions are needed, they won't be frustrated at the lack of an outcome\n",
    "    frustrated1 = (1-outcome1)*desire*tt.neq(belief1, 2)*(1-noise) + (1-outcome1)*desire*tt.eq(belief1, 2)*noise + noise*(1-desire)\n",
    "    neutral1 = [1]\n",
    "    emotion_array1 = tt.transpose(tt.stack(happy1, frustrated1, neutral1 ))\n",
    "    expression1 = pm.Categorical(\"expression1\",emotion_array1,observed=1 ) # happy, frustrated, neutral\n",
    "\n",
    "    # if frustrated, agent is likely to revise belief\n",
    "    # else stick to previous belief\n",
    "    belief2_random = pm.Categorical(\"belief2_random\", [1,1,1], shape=(1))\n",
    "    belief2 = pm.Deterministic(\"belief2\", tt.eq(expression1,1)*belief2_random + \\\n",
    "                              tt.neq(expression1,1)*belief1)\n",
    "    \n",
    "    draw = 2000 \n",
    "    trace2c = pm.sample(draw, tune=1000, chains=4, return_inferencedata=False)\n",
    "\n",
    "unique, counts = np.unique(trace2c[\"world\"], return_counts=True)\n",
    "worldposterior_t3 = sort_category(unique, counts)\n",
    "rmse_output_t3 = rmse(worldposterior_t3, worldhuman_emotion_t3)\n",
    "print(rmse_output_t3)"
   ]
  },
  {
   "cell_type": "code",
   "execution_count": 28,
   "id": "35dd3356",
   "metadata": {
    "tags": []
   },
   "outputs": [
    {
     "name": "stderr",
     "output_type": "stream",
     "text": [
      "Multiprocess sampling (4 chains in 4 jobs)\n",
      "CompoundStep\n",
      ">CategoricalGibbsMetropolis: [belief2_random, belief1_random, world]\n",
      ">NUTS: [knowledge_p]\n",
      ">CompoundStep\n",
      ">>Metropolis: [desire]\n",
      ">>Metropolis: [knowledge]\n"
     ]
    },
    {
     "data": {
      "text/html": [
       "\n",
       "    <div>\n",
       "        <style>\n",
       "            /* Turns off some styling */\n",
       "            progress {\n",
       "                /* gets rid of default border in Firefox and Opera. */\n",
       "                border: none;\n",
       "                /* Needs to be in here for Safari polyfill so background images work as expected. */\n",
       "                background-size: auto;\n",
       "            }\n",
       "            .progress-bar-interrupted, .progress-bar-interrupted::-webkit-progress-bar {\n",
       "                background: #F44336;\n",
       "            }\n",
       "        </style>\n",
       "      <progress value='12000' class='' max='12000' style='width:300px; height:20px; vertical-align: middle;'></progress>\n",
       "      100.00% [12000/12000 00:04<00:00 Sampling 4 chains, 0 divergences]\n",
       "    </div>\n",
       "    "
      ],
      "text/plain": [
       "<IPython.core.display.HTML object>"
      ]
     },
     "metadata": {},
     "output_type": "display_data"
    },
    {
     "name": "stderr",
     "output_type": "stream",
     "text": [
      "Sampling 4 chains for 1_000 tune and 2_000 draw iterations (4_000 + 8_000 draws total) took 6 seconds.\n",
      "The acceptance probability does not match the target. It is 0.7155314424812027, but should be close to 0.8. Try to increase the number of tuning steps.\n",
      "The number of effective samples is smaller than 25% for some parameters.\n"
     ]
    },
    {
     "name": "stdout",
     "output_type": "stream",
     "text": [
      "0.05124753488867856\n"
     ]
    }
   ],
   "source": [
    "with pm.Model() as model2d:\n",
    "    noise = .15\n",
    "    world = pm.Categorical(\"world\", [human_prior], shape=(1)) # blue, orange, both\n",
    "    knowledge_p = pm.Beta(\"knowledge_p\", a, b, shape=(1)) # reliability of the agent's knowledge\n",
    "    knowledge = pm.Binomial(\"knowledge\", 1, knowledge_p, shape=(1))\n",
    "    \n",
    "    belief1_random = pm.Categorical(\"belief1_random\", [1,1,1], shape=(1))\n",
    "    belief1 = pm.Deterministic(\"belief1\", knowledge*world + (1-knowledge)*belief1_random)\n",
    "    \n",
    "    desire = pm.Binomial(\"desire\",1, d, shape=(1)) # bulb=1, others=0\n",
    "\n",
    "    action1_blue_p = pm.Deterministic(\"action1_blue_p\", tt.eq(belief1,0)*desire*(1-noise) + \\\n",
    "                                      # if believe both are needed,\n",
    "                                      tt.eq(belief1,2)*desire*(1-noise) + \\\n",
    "                                      # mistaken action\n",
    "                                      tt.eq(belief1,1)*desire*noise +\\\n",
    "                                      # if desire something else\n",
    "                                      (1-desire)*noise)\n",
    "    action1_blue_p = perturb(action1_blue_p)\n",
    "    \n",
    "    action1_orange_p = pm.Deterministic(\"action1_orange_p\", tt.eq(belief1,1)*desire*(1-noise) + \\\n",
    "                                        # if belief both are needed,\n",
    "                                        tt.eq(belief1,2)*desire*(1-noise) + \\\n",
    "                                        # mistaken action\n",
    "                                        tt.eq(belief1,0)*desire*noise +\\\n",
    "                                        # if desire something else,\n",
    "                                        (1-desire)*noise)\n",
    "    action1_orange_p = perturb(action1_orange_p)\n",
    "    \n",
    "    action1_stack = tt.transpose(tt.stack(action1_blue_p,action1_orange_p,[noise*2]))\n",
    "    action1 = pm.Categorical(\"action1\",action1_stack,observed=0,shape=(1)) # blue orange others\n",
    "    \n",
    "    outcome1_p = pm.Deterministic(\"outcome1_p\", tt.eq(world,0)*tt.eq(action1,0)*(1-delay) + \\\n",
    "                                  tt.eq(world,1)*tt.eq(action1,1)*(1-delay) + \\\n",
    "                                  # if both boxes are required, then outcome will not happen\n",
    "                                  tt.eq(world,2)*0)\n",
    "    outcome1_p = perturb(outcome1_p,noise) # add noise to outcome\n",
    "    \n",
    "    outcome1 = pm.Binomial(\"outcome1\", 1, outcome1_p, observed = 0 , shape = (1))\n",
    "    \n",
    "    happy1 = outcome1*desire*(1-noise) + noise*(1-desire)\n",
    "    # if agent believes both actions are needed, they won't be frustrated at the lack of an outcome\n",
    "    frustrated1 = (1-outcome1)*desire*tt.neq(belief1, 2)*(1-noise) + (1-outcome1)*desire*tt.eq(belief1, 2)*noise + noise*(1-desire)\n",
    "    neutral1 = [1]\n",
    "    emotion_array1 = tt.transpose(tt.stack(happy1, frustrated1, neutral1 ))\n",
    "    expression1 = pm.Categorical(\"expression1\",emotion_array1,observed=1 ) # happy, frustrated, neutral\n",
    "\n",
    "    # if frustrated, agent is likely to revise belief\n",
    "    # else stick to previous belief\n",
    "    belief2_random = pm.Categorical(\"belief2_random\", [1,1,1], shape=(1))\n",
    "    belief2 = pm.Deterministic(\"belief2\", tt.eq(expression1,1)*belief2_random + \\\n",
    "                              tt.neq(expression1,1)*belief1)\n",
    "    \n",
    "    # if outcome has been reached (and agent desired outcome), then likely no action would follow \n",
    "    action2_blue_p = pm.Deterministic(\"action2_blue_p\", tt.switch(tt.eq(outcome1,0)*desire, \\\n",
    "                                                                  tt.eq(belief2,0)*(1-noise) + \\\n",
    "                                                                  # if belief both are needed and orange was pushed previously, then push blue\n",
    "                                                                  tt.eq(belief2,2)*tt.eq(action1,1)*(1-noise)+ \\\n",
    "                                                                  # mistaken action\n",
    "                                                                  tt.eq(belief2,1)*noise,\n",
    "                                                                  # if outcome was reached at t1, no further action required\n",
    "                                                                  noise)) \n",
    "    action2_blue_p = perturb(action2_blue_p)\n",
    "    \n",
    "    # if outcome has been reached (and agent desired outcome), then likely no action would follow \n",
    "    action2_orange_p = pm.Deterministic(\"action2_orange_p\", tt.switch(tt.eq(outcome1,0)*desire, \\\n",
    "                                                                  tt.eq(belief2,1)*(1-noise) + \\\n",
    "                                                                  # if belief both are needed and blue was pushed previously, then push orange \n",
    "                                                                  tt.eq(belief2,2)*tt.eq(action1,0)*(1-noise)+ \\\n",
    "                                                                  # mistaken action\n",
    "                                                                  tt.eq(belief2,0)*noise,\n",
    "                                                                  noise)) \n",
    "    action2_orange_p = perturb(action2_orange_p)\n",
    "    action2_stack = tt.transpose(tt.stack(action2_blue_p, action2_orange_p, [noise*2]))\n",
    "    action2 = pm.Categorical(\"action2\", action2_stack, observed=1, shape=(1)) # blue orange \n",
    "    \n",
    "    draw = 2000 \n",
    "    trace2d = pm.sample(draw, tune=1000, chains=4, return_inferencedata=False)\n",
    "    \n",
    "unique, counts = np.unique(trace2d[\"world\"], return_counts=True)\n",
    "worldposterior_t4 = sort_category(unique, counts)\n",
    "rmse_output_t4 = rmse(worldposterior_t4, worldhuman_emotion_t4)\n",
    "print(rmse_output_t4)"
   ]
  },
  {
   "cell_type": "code",
   "execution_count": 29,
   "id": "da748ecb-1b59-40c7-b82b-d8a6f31bcb74",
   "metadata": {
    "tags": []
   },
   "outputs": [
    {
     "name": "stderr",
     "output_type": "stream",
     "text": [
      "Multiprocess sampling (4 chains in 4 jobs)\n",
      "CompoundStep\n",
      ">CategoricalGibbsMetropolis: [belief2_random, belief1_random, world]\n",
      ">NUTS: [knowledge_p]\n",
      ">CompoundStep\n",
      ">>Metropolis: [desire]\n",
      ">>Metropolis: [knowledge]\n"
     ]
    },
    {
     "data": {
      "text/html": [
       "\n",
       "    <div>\n",
       "        <style>\n",
       "            /* Turns off some styling */\n",
       "            progress {\n",
       "                /* gets rid of default border in Firefox and Opera. */\n",
       "                border: none;\n",
       "                /* Needs to be in here for Safari polyfill so background images work as expected. */\n",
       "                background-size: auto;\n",
       "            }\n",
       "            .progress-bar-interrupted, .progress-bar-interrupted::-webkit-progress-bar {\n",
       "                background: #F44336;\n",
       "            }\n",
       "        </style>\n",
       "      <progress value='12000' class='' max='12000' style='width:300px; height:20px; vertical-align: middle;'></progress>\n",
       "      100.00% [12000/12000 00:04<00:00 Sampling 4 chains, 0 divergences]\n",
       "    </div>\n",
       "    "
      ],
      "text/plain": [
       "<IPython.core.display.HTML object>"
      ]
     },
     "metadata": {},
     "output_type": "display_data"
    },
    {
     "name": "stderr",
     "output_type": "stream",
     "text": [
      "Sampling 4 chains for 1_000 tune and 2_000 draw iterations (4_000 + 8_000 draws total) took 6 seconds.\n",
      "The number of effective samples is smaller than 25% for some parameters.\n"
     ]
    },
    {
     "name": "stdout",
     "output_type": "stream",
     "text": [
      "0.09029890365596617\n"
     ]
    }
   ],
   "source": [
    "with pm.Model() as model2:\n",
    "    noise = .25\n",
    "    world = pm.Categorical(\"world\", [human_prior], shape=(1)) # blue, orange, both\n",
    "    knowledge_p = pm.Beta(\"knowledge_p\", a, b, shape=(1)) # reliability of the agent's knowledge\n",
    "    knowledge = pm.Binomial(\"knowledge\", 1, knowledge_p, shape=(1))\n",
    "    \n",
    "    belief1_random = pm.Categorical(\"belief1_random\", [1,1,1], shape=(1))\n",
    "    belief1 = pm.Deterministic(\"belief1\", knowledge*world + (1-knowledge)*belief1_random)\n",
    "    \n",
    "    desire = pm.Binomial(\"desire\",1, d, shape=(1)) # desire bulb to turn on=1, others=0\n",
    "\n",
    "    action1_blue_p = pm.Deterministic(\"action1_blue_p\", tt.eq(belief1,0)*desire*(1-noise) + \\\n",
    "                                      # if believe both are needed,\n",
    "                                      tt.eq(belief1,2)*desire*(1-noise) + \\\n",
    "                                      # mistaken action\n",
    "                                      tt.eq(belief1,1)*desire*noise +\\\n",
    "                                      # if desire something else\n",
    "                                      (1-desire)*noise)\n",
    "    action1_blue_p = perturb(action1_blue_p) # perturb ensures that the probability is not equals to 1 or 0\n",
    "    \n",
    "    action1_orange_p = pm.Deterministic(\"action1_orange_p\", tt.eq(belief1,1)*desire*(1-noise) + \\\n",
    "                                        # if believe both are needed,\n",
    "                                        tt.eq(belief1,2)*desire*(1-noise) + \\\n",
    "                                        # mistaken action\n",
    "                                        tt.eq(belief1,0)*desire*noise +\\\n",
    "                                        # if desire something else,\n",
    "                                        (1-desire)*noise)\n",
    "    action1_orange_p = perturb(action1_orange_p) # perturb ensures that the probability is not equals to 1 or 0\n",
    "    \n",
    "    action1_stack = tt.transpose(tt.stack(action1_blue_p,action1_orange_p,[noise*2]))\n",
    "    action1 = pm.Categorical(\"action1\",action1_stack,observed=0,shape=(1)) # blue orange others\n",
    "    \n",
    "    outcome1_p = pm.Deterministic(\"outcome1_p\", tt.eq(world,0)*tt.eq(action1,0)*(1-delay) + \\\n",
    "                                  tt.eq(world,1)*tt.eq(action1,1)*(1-delay) + \\\n",
    "                                  # if both boxes are required, then outcome will likely not happen\n",
    "                                  tt.eq(world,2)*0)\n",
    "    outcome1_p = perturb(outcome1_p,noise) # add noise to outcome\n",
    "    \n",
    "    outcome1 = pm.Binomial(\"outcome1\", 1, outcome1_p, observed = 0 , shape = (1))\n",
    "    \n",
    "    happy1 = outcome1*desire*(1-noise) + noise*(1-desire)\n",
    "    # if agent believes both actions are needed, they won't be frustrated at the lack of an outcome\n",
    "    frustrated1 = (1-outcome1)*desire*tt.neq(belief1, 2)*(1-noise) + (1-outcome1)*desire*tt.eq(belief1, 2)*noise + noise*(1-desire)\n",
    "    neutral1 = [1]\n",
    "    emotion_array1 = tt.transpose(tt.stack(happy1, frustrated1, neutral1 ))\n",
    "    expression1 = pm.Categorical(\"expression1\",emotion_array1,observed=1 ) # happy, frustrated, neutral\n",
    "\n",
    "    # if frustrated, agent is likely to revise belief\n",
    "    # else stick to previous belief\n",
    "    belief2_random = pm.Categorical(\"belief2_random\", [1,1,1], shape=(1))\n",
    "    belief2 = pm.Deterministic(\"belief2\", tt.eq(expression1,1)*belief2_random + \\\n",
    "                              tt.neq(expression1,1)*belief1)\n",
    "    \n",
    "    # if outcome has been reached (and agent desired outcome), then likely no action would follow \n",
    "    action2_blue_p = pm.Deterministic(\"action2_blue_p\", tt.switch(tt.eq(outcome1,0)*desire, \\\n",
    "                                                                  tt.eq(belief2,0)*(1-noise) + \\\n",
    "                                                                  # if belief both are needed and orange was pushed previously, then push blue\n",
    "                                                                  tt.eq(belief2,2)*tt.eq(action1,1)*(1-noise)+ \\\n",
    "                                                                  # mistaken action\n",
    "                                                                  tt.eq(belief2,1)*noise,\n",
    "                                                                  # if outcome was reached at t1, no further action required\n",
    "                                                                  noise)) \n",
    "    action2_blue_p = perturb(action2_blue_p)\n",
    "    \n",
    "    # if outcome has been reached (and agent desired outcome), then likely no action would follow \n",
    "    action2_orange_p = pm.Deterministic(\"action2_orange_p\", tt.switch(tt.eq(outcome1,0)*desire, \\\n",
    "                                                                  tt.eq(belief2,1)*(1-noise) + \\\n",
    "                                                                  # if believe both are needed and blue was pushed previously, then push orange \n",
    "                                                                  tt.eq(belief2,2)*tt.eq(action1,0)*(1-noise)+ \\\n",
    "                                                                  # mistaken action\n",
    "                                                                  tt.eq(belief2,0)*noise,\n",
    "                                                                  noise)) \n",
    "    action2_orange_p = perturb(action2_orange_p)\n",
    "    action2_stack = tt.transpose(tt.stack(action2_blue_p, action2_orange_p, [noise*2]))\n",
    "    action2 = pm.Categorical(\"action2\", action2_stack, observed=1, shape=(1)) # blue orange others\n",
    "    \n",
    "    outcome2_p = pm.Deterministic(\"outcome2_p\", tt.eq(world,0)*tt.eq(action2,0) + \\\n",
    "                                  # if previous action has a delayed effect\n",
    "                                  tt.eq(world,0)*tt.eq(action1,0)*tt.neq(action2,0)*delay + \\\n",
    "                                  tt.eq(world,1)*tt.eq(action2,1)+ \\\n",
    "                                  # if previous action has a delayed effect\n",
    "                                  tt.eq(world,1)*tt.eq(action1,1)*tt.neq(action2,1)*delay + \\\n",
    "                                  tt.eq(world,2)*tt.eq(action1,0)*tt.eq(action2,1)+ \\\n",
    "                                  tt.eq(world,2)*tt.eq(action1,1)*tt.eq(action2,0)) \n",
    "    outcome2_p = perturb(outcome2_p, noise)\n",
    "    outcome2 = pm.Binomial(\"outcome2\", 1, outcome2_p, observed = 1, shape = (1))\n",
    "    \n",
    "    happy2 = outcome2*desire*(1-noise) + noise*(1-desire)\n",
    "    frustrated2 = (1-outcome2)*desire*(1-noise) + noise*(1-desire)\n",
    "    neutral2 = [1]\n",
    "    emotion_array2 = tt.transpose(tt.stack(happy2, frustrated2, neutral2 ))\n",
    "    expression2 = pm.Categorical(\"expression2\",emotion_array2,observed=0 ) # happy, frustrated, neutral\n",
    "    \n",
    "    draw = 2000 \n",
    "    trace2e = pm.sample(draw, tune=1000, chains=4, return_inferencedata=False)\n",
    "    \n",
    "unique, counts = np.unique(trace2e[\"world\"], return_counts=True)\n",
    "worldposterior_t5 = sort_category(unique, counts)\n",
    "rmse_output_t5 = rmse(worldposterior_t5, worldhuman_emotion_t5)\n",
    "print(rmse_output_t5)"
   ]
  },
  {
   "cell_type": "markdown",
   "id": "fdd33adb-3887-455f-9c84-800feff6ce99",
   "metadata": {},
   "source": [
    "### Summary statistics"
   ]
  },
  {
   "cell_type": "code",
   "execution_count": 30,
   "id": "34826269",
   "metadata": {},
   "outputs": [
    {
     "name": "stdout",
     "output_type": "stream",
     "text": [
      "world t1: {0: 3045, 1: 2454, 2: 2501}\n",
      "[0.380625 0.30675  0.312625]\n"
     ]
    }
   ],
   "source": [
    "unique, counts = np.unique(trace2ab[\"world_prior\"], return_counts=True)\n",
    "print(\"world t1: \" + str(dict(zip(unique, counts))))\n",
    "print(sort_category(unique, counts))"
   ]
  },
  {
   "cell_type": "code",
   "execution_count": 31,
   "id": "6a1183a3",
   "metadata": {},
   "outputs": [
    {
     "name": "stdout",
     "output_type": "stream",
     "text": [
      "world t1 :[array([0.352   , 0.278   , 0.281975]), array([0.41 , 0.335, 0.341])]\n"
     ]
    }
   ],
   "source": [
    "np.random.seed(123456)\n",
    "print(\"world t1 :\" + str(compute_ci_discrete(flatten(trace2ab[\"world_prior\"]), HDI = .95, n = 1000, sim = 1000)))"
   ]
  },
  {
   "cell_type": "code",
   "execution_count": 32,
   "id": "399624fa",
   "metadata": {},
   "outputs": [
    {
     "name": "stdout",
     "output_type": "stream",
     "text": [
      "world t2: {0: 3792, 1: 1675, 2: 2533}\n",
      "[0.474    0.209375 0.316625]\n"
     ]
    }
   ],
   "source": [
    "unique, counts = np.unique(trace2ab[\"world\"], return_counts=True)\n",
    "print(\"world t2: \" + str(dict(zip(unique, counts))))\n",
    "print(sort_category(unique, counts))"
   ]
  },
  {
   "cell_type": "code",
   "execution_count": 33,
   "id": "2d4deb24",
   "metadata": {},
   "outputs": [
    {
     "name": "stdout",
     "output_type": "stream",
     "text": [
      "world t2 :[array([0.443, 0.185, 0.289]), array([0.506, 0.235, 0.347])]\n"
     ]
    }
   ],
   "source": [
    "np.random.seed(123456)\n",
    "print(\"world t2 :\" + str(compute_ci_discrete(flatten(trace2ab[\"world\"]), HDI = .95, n = 1000, sim = 1000)))"
   ]
  },
  {
   "cell_type": "code",
   "execution_count": 34,
   "id": "b0f2e408",
   "metadata": {},
   "outputs": [
    {
     "name": "stdout",
     "output_type": "stream",
     "text": [
      "world t3: {0: 2214, 1: 2870, 2: 2916}\n",
      "[0.27675 0.35875 0.3645 ]\n"
     ]
    }
   ],
   "source": [
    "unique, counts = np.unique(trace2c[\"world\"], return_counts=True)\n",
    "print(\"world t3: \" + str(dict(zip(unique, counts))))\n",
    "print(sort_category(unique, counts))"
   ]
  },
  {
   "cell_type": "code",
   "execution_count": 35,
   "id": "eebc1147",
   "metadata": {},
   "outputs": [
    {
     "name": "stdout",
     "output_type": "stream",
     "text": [
      "world t3 :[array([0.249, 0.33 , 0.336]), array([0.308   , 0.387025, 0.396   ])]\n"
     ]
    }
   ],
   "source": [
    "np.random.seed(123456)\n",
    "print(\"world t3 :\" + str(compute_ci_discrete(flatten(trace2c[\"world\"]), HDI = .95, n = 1000, sim = 1000)))"
   ]
  },
  {
   "cell_type": "code",
   "execution_count": 36,
   "id": "e12555d2",
   "metadata": {},
   "outputs": [
    {
     "name": "stdout",
     "output_type": "stream",
     "text": [
      "world t4: {0: 2455, 1: 2729, 2: 2816}\n",
      "[0.306875 0.341125 0.352   ]\n"
     ]
    }
   ],
   "source": [
    "unique, counts = np.unique(trace2d[\"world\"], return_counts=True)\n",
    "print(\"world t4: \" + str(dict(zip(unique, counts))))\n",
    "print(sort_category(unique, counts))"
   ]
  },
  {
   "cell_type": "code",
   "execution_count": 37,
   "id": "ca69f1e1",
   "metadata": {},
   "outputs": [
    {
     "name": "stdout",
     "output_type": "stream",
     "text": [
      "world t4 :[array([0.277975, 0.312975, 0.322   ]), array([0.336025, 0.375   , 0.383   ])]\n"
     ]
    }
   ],
   "source": [
    "np.random.seed(123456)\n",
    "print(\"world t4 :\" + str(compute_ci_discrete(flatten(trace2d[\"world\"]), HDI = .95, n = 1000, sim = 1000)))"
   ]
  },
  {
   "cell_type": "code",
   "execution_count": 38,
   "id": "fffa5133",
   "metadata": {},
   "outputs": [
    {
     "name": "stdout",
     "output_type": "stream",
     "text": [
      "world t5: {0: 647, 1: 3677, 2: 3676}\n",
      "[0.080875 0.459625 0.4595  ]\n"
     ]
    }
   ],
   "source": [
    "unique, counts = np.unique(trace2e[\"world\"], return_counts=True)\n",
    "print(\"world t5: \" + str(dict(zip(unique, counts))))\n",
    "print(sort_category(unique, counts))"
   ]
  },
  {
   "cell_type": "code",
   "execution_count": 39,
   "id": "2a2be027",
   "metadata": {},
   "outputs": [
    {
     "name": "stdout",
     "output_type": "stream",
     "text": [
      "world t5 :[array([0.064975, 0.426   , 0.429   ]), array([0.098, 0.489, 0.491])]\n"
     ]
    }
   ],
   "source": [
    "np.random.seed(123456)\n",
    "print(\"world t5 :\" + str(compute_ci_discrete(flatten(trace2e[\"world\"]), HDI = .95, n = 1000, sim = 1000)))"
   ]
  }
 ],
 "metadata": {
  "kernelspec": {
   "display_name": "Python 3 (ipykernel)",
   "language": "python",
   "name": "python3"
  },
  "language_info": {
   "codemirror_mode": {
    "name": "ipython",
    "version": 3
   },
   "file_extension": ".py",
   "mimetype": "text/x-python",
   "name": "python",
   "nbconvert_exporter": "python",
   "pygments_lexer": "ipython3",
   "version": "3.8.12"
  }
 },
 "nbformat": 4,
 "nbformat_minor": 5
}
